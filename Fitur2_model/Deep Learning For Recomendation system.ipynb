{
 "cells": [
  {
   "attachments": {},
   "cell_type": "markdown",
   "metadata": {},
   "source": [
    "# Import Library"
   ]
  },
  {
   "cell_type": "code",
   "execution_count": 56,
   "metadata": {},
   "outputs": [],
   "source": [
    "import pandas as pd\n",
    "from sklearn.preprocessing import MinMaxScaler\n",
    "import nltk\n",
    "from nltk.stem import WordNetLemmatizer\n",
    "import string\n",
    "from sklearn.feature_extraction.text import TfidfVectorizer\n",
    "import scipy.sparse as sp\n",
    "import numpy as np\n",
    "from sklearn.model_selection import train_test_split\n",
    "from sklearn.preprocessing import LabelEncoder\n",
    "from keras.models import Sequential\n",
    "from keras.layers import Dense,Dropout\n",
    "from sklearn.metrics import mean_squared_error, mean_absolute_error\n",
    "import matplotlib.pyplot as plt"
   ]
  },
  {
   "attachments": {},
   "cell_type": "markdown",
   "metadata": {},
   "source": [
    "# Import Dataset"
   ]
  },
  {
   "cell_type": "code",
   "execution_count": 15,
   "metadata": {},
   "outputs": [
    {
     "data": {
      "text/html": [
       "<div>\n",
       "<style scoped>\n",
       "    .dataframe tbody tr th:only-of-type {\n",
       "        vertical-align: middle;\n",
       "    }\n",
       "\n",
       "    .dataframe tbody tr th {\n",
       "        vertical-align: top;\n",
       "    }\n",
       "\n",
       "    .dataframe thead th {\n",
       "        text-align: right;\n",
       "    }\n",
       "</style>\n",
       "<table border=\"1\" class=\"dataframe\">\n",
       "  <thead>\n",
       "    <tr style=\"text-align: right;\">\n",
       "      <th></th>\n",
       "      <th>ID</th>\n",
       "      <th>Deskripsi Produk</th>\n",
       "      <th>Merek</th>\n",
       "      <th>Kategori</th>\n",
       "      <th>Harga Sewa</th>\n",
       "      <th>Preferensi Pengguna</th>\n",
       "      <th>Jumlah Stok</th>\n",
       "    </tr>\n",
       "  </thead>\n",
       "  <tbody>\n",
       "    <tr>\n",
       "      <th>0</th>\n",
       "      <td>1</td>\n",
       "      <td>Kamera Mirrorless</td>\n",
       "      <td>Sony</td>\n",
       "      <td>Camera</td>\n",
       "      <td>200000</td>\n",
       "      <td>Fotografi, Ringan, Kinerja</td>\n",
       "      <td>5</td>\n",
       "    </tr>\n",
       "    <tr>\n",
       "      <th>1</th>\n",
       "      <td>2</td>\n",
       "      <td>Speaker Bluetooth</td>\n",
       "      <td>JBL</td>\n",
       "      <td>Speaker</td>\n",
       "      <td>100000</td>\n",
       "      <td>Bergaya, Portabel</td>\n",
       "      <td>3</td>\n",
       "    </tr>\n",
       "    <tr>\n",
       "      <th>2</th>\n",
       "      <td>3</td>\n",
       "      <td>Proyektor Mini</td>\n",
       "      <td>Epson</td>\n",
       "      <td>Proyektor</td>\n",
       "      <td>150000</td>\n",
       "      <td>Kinerja, Mudah Digunakan</td>\n",
       "      <td>2</td>\n",
       "    </tr>\n",
       "    <tr>\n",
       "      <th>3</th>\n",
       "      <td>4</td>\n",
       "      <td>Playstation 5</td>\n",
       "      <td>Sony</td>\n",
       "      <td>Playstation</td>\n",
       "      <td>250000</td>\n",
       "      <td>Mewah, Gaming</td>\n",
       "      <td>4</td>\n",
       "    </tr>\n",
       "    <tr>\n",
       "      <th>4</th>\n",
       "      <td>5</td>\n",
       "      <td>Tenda Camping 4 Orang</td>\n",
       "      <td>Coleman</td>\n",
       "      <td>Tenda</td>\n",
       "      <td>50000</td>\n",
       "      <td>Nyaman, Ringan, Tahan Lama</td>\n",
       "      <td>6</td>\n",
       "    </tr>\n",
       "  </tbody>\n",
       "</table>\n",
       "</div>"
      ],
      "text/plain": [
       "   ID       Deskripsi Produk    Merek     Kategori  Harga Sewa  \\\n",
       "0   1      Kamera Mirrorless     Sony       Camera      200000   \n",
       "1   2      Speaker Bluetooth      JBL      Speaker      100000   \n",
       "2   3         Proyektor Mini    Epson    Proyektor      150000   \n",
       "3   4          Playstation 5     Sony  Playstation      250000   \n",
       "4   5  Tenda Camping 4 Orang  Coleman        Tenda       50000   \n",
       "\n",
       "          Preferensi Pengguna  Jumlah Stok  \n",
       "0  Fotografi, Ringan, Kinerja            5  \n",
       "1           Bergaya, Portabel            3  \n",
       "2    Kinerja, Mudah Digunakan            2  \n",
       "3               Mewah, Gaming            4  \n",
       "4  Nyaman, Ringan, Tahan Lama            6  "
      ]
     },
     "execution_count": 15,
     "metadata": {},
     "output_type": "execute_result"
    }
   ],
   "source": [
    "df=pd.read_csv(r\"..\\DATASET\\recommendation system\\1000_dummy_product.csv\")\n",
    "df.head()"
   ]
  },
  {
   "cell_type": "code",
   "execution_count": 16,
   "metadata": {},
   "outputs": [
    {
     "data": {
      "text/html": [
       "<div>\n",
       "<style scoped>\n",
       "    .dataframe tbody tr th:only-of-type {\n",
       "        vertical-align: middle;\n",
       "    }\n",
       "\n",
       "    .dataframe tbody tr th {\n",
       "        vertical-align: top;\n",
       "    }\n",
       "\n",
       "    .dataframe thead th {\n",
       "        text-align: right;\n",
       "    }\n",
       "</style>\n",
       "<table border=\"1\" class=\"dataframe\">\n",
       "  <thead>\n",
       "    <tr style=\"text-align: right;\">\n",
       "      <th></th>\n",
       "      <th>ID</th>\n",
       "      <th>Deskripsi Produk</th>\n",
       "      <th>Merek</th>\n",
       "      <th>Kategori</th>\n",
       "      <th>Harga Sewa</th>\n",
       "      <th>Preferensi Pengguna</th>\n",
       "      <th>Jumlah Stok</th>\n",
       "    </tr>\n",
       "  </thead>\n",
       "  <tbody>\n",
       "    <tr>\n",
       "      <th>995</th>\n",
       "      <td>996</td>\n",
       "      <td>Tas Camping Deuter Aircontact Lite 40+10</td>\n",
       "      <td>Deuter</td>\n",
       "      <td>Tas Camping</td>\n",
       "      <td>1700000</td>\n",
       "      <td>Tahan Air,Tahan Lama</td>\n",
       "      <td>5</td>\n",
       "    </tr>\n",
       "    <tr>\n",
       "      <th>996</th>\n",
       "      <td>997</td>\n",
       "      <td>Kamera Mirrorless Fujifilm X-T4</td>\n",
       "      <td>Fujifilm</td>\n",
       "      <td>Camera</td>\n",
       "      <td>8000000</td>\n",
       "      <td>Fotografi,Kualitas Tinggi</td>\n",
       "      <td>3</td>\n",
       "    </tr>\n",
       "    <tr>\n",
       "      <th>997</th>\n",
       "      <td>998</td>\n",
       "      <td>Speaker Bluetooth Sony SRS-XB43</td>\n",
       "      <td>Sony</td>\n",
       "      <td>Speaker</td>\n",
       "      <td>3000000</td>\n",
       "      <td>Portabel,Suara Kualitas Tinggi</td>\n",
       "      <td>4</td>\n",
       "    </tr>\n",
       "    <tr>\n",
       "      <th>998</th>\n",
       "      <td>999</td>\n",
       "      <td>Proyektor HD ViewSonic PX747-4K</td>\n",
       "      <td>ViewSonic</td>\n",
       "      <td>Proyektor</td>\n",
       "      <td>6500000</td>\n",
       "      <td>Kualitas Gambar Tinggi, Terang</td>\n",
       "      <td>3</td>\n",
       "    </tr>\n",
       "    <tr>\n",
       "      <th>999</th>\n",
       "      <td>1000</td>\n",
       "      <td>PlayStation 4 Pro</td>\n",
       "      <td>Sony</td>\n",
       "      <td>Playstation</td>\n",
       "      <td>4000000</td>\n",
       "      <td>Gaming,Kualitas Grafis Tinggi</td>\n",
       "      <td>3</td>\n",
       "    </tr>\n",
       "  </tbody>\n",
       "</table>\n",
       "</div>"
      ],
      "text/plain": [
       "       ID                          Deskripsi Produk      Merek     Kategori  \\\n",
       "995   996  Tas Camping Deuter Aircontact Lite 40+10     Deuter  Tas Camping   \n",
       "996   997           Kamera Mirrorless Fujifilm X-T4   Fujifilm       Camera   \n",
       "997   998           Speaker Bluetooth Sony SRS-XB43       Sony      Speaker   \n",
       "998   999           Proyektor HD ViewSonic PX747-4K  ViewSonic    Proyektor   \n",
       "999  1000                         PlayStation 4 Pro       Sony  Playstation   \n",
       "\n",
       "     Harga Sewa             Preferensi Pengguna  Jumlah Stok  \n",
       "995     1700000            Tahan Air,Tahan Lama            5  \n",
       "996     8000000       Fotografi,Kualitas Tinggi            3  \n",
       "997     3000000  Portabel,Suara Kualitas Tinggi            4  \n",
       "998     6500000  Kualitas Gambar Tinggi, Terang            3  \n",
       "999     4000000   Gaming,Kualitas Grafis Tinggi            3  "
      ]
     },
     "execution_count": 16,
     "metadata": {},
     "output_type": "execute_result"
    }
   ],
   "source": [
    "df.tail()"
   ]
  },
  {
   "cell_type": "code",
   "execution_count": 17,
   "metadata": {},
   "outputs": [
    {
     "name": "stdout",
     "output_type": "stream",
     "text": [
      "<class 'pandas.core.frame.DataFrame'>\n",
      "RangeIndex: 1000 entries, 0 to 999\n",
      "Data columns (total 7 columns):\n",
      " #   Column               Non-Null Count  Dtype \n",
      "---  ------               --------------  ----- \n",
      " 0   ID                   1000 non-null   int64 \n",
      " 1   Deskripsi Produk     1000 non-null   object\n",
      " 2   Merek                1000 non-null   object\n",
      " 3   Kategori             1000 non-null   object\n",
      " 4   Harga Sewa           1000 non-null   int64 \n",
      " 5   Preferensi Pengguna  1000 non-null   object\n",
      " 6   Jumlah Stok          1000 non-null   int64 \n",
      "dtypes: int64(3), object(4)\n",
      "memory usage: 54.8+ KB\n"
     ]
    }
   ],
   "source": [
    "df.info()"
   ]
  },
  {
   "attachments": {},
   "cell_type": "markdown",
   "metadata": {},
   "source": [
    "# Prepocessing"
   ]
  },
  {
   "attachments": {},
   "cell_type": "markdown",
   "metadata": {},
   "source": [
    "### Data Cleaning"
   ]
  },
  {
   "cell_type": "code",
   "execution_count": 18,
   "metadata": {},
   "outputs": [
    {
     "data": {
      "text/plain": [
       "array(['Camera', 'Speaker', 'Proyektor', 'Playstation', 'Tenda', 'Sepatu',\n",
       "       'Matras', 'Tas', 'Furniture', 'Headset', 'Laptop', 'Mesin Cuci',\n",
       "       'Smartphone', 'Sepeda', 'TV', 'Soundbar', 'Alat Musik',\n",
       "       'Smartwatch', 'Perkakas', 'Dapur', 'Outdoor', 'Videocam', 'Audio',\n",
       "       'Koper', 'Perangkat Keamanan', 'Printer', 'Monitor', 'Drone',\n",
       "       'Alat Fitness', 'Perangkat Streaming', 'Mikrofon', 'Kamera Aksi',\n",
       "       'Keyboard', 'Smart TV', 'Mesin Jahit', 'Kulkas', 'Kamera',\n",
       "       'Tas Camping'], dtype=object)"
      ]
     },
     "execution_count": 18,
     "metadata": {},
     "output_type": "execute_result"
    }
   ],
   "source": [
    "df.Kategori.unique()"
   ]
  },
  {
   "cell_type": "code",
   "execution_count": 19,
   "metadata": {},
   "outputs": [
    {
     "data": {
      "text/plain": [
       "Speaker                140\n",
       "Proyektor              105\n",
       "Tenda                  104\n",
       "Sepatu                 104\n",
       "Matras                 103\n",
       "Playstation            101\n",
       "Kamera                  81\n",
       "Tas                     67\n",
       "Camera                  42\n",
       "Tas Camping             36\n",
       "Dapur                   22\n",
       "Alat Musik              12\n",
       "Laptop                  12\n",
       "Perkakas                 8\n",
       "Furniture                7\n",
       "Smartphone               7\n",
       "Outdoor                  7\n",
       "Smart TV                 5\n",
       "Monitor                  4\n",
       "Drone                    4\n",
       "Alat Fitness             4\n",
       "Kulkas                   3\n",
       "Mesin Jahit              3\n",
       "Printer                  2\n",
       "Perangkat Streaming      2\n",
       "Headset                  2\n",
       "Mikrofon                 2\n",
       "Keyboard                 1\n",
       "Kamera Aksi              1\n",
       "Sepeda                   1\n",
       "TV                       1\n",
       "Mesin Cuci               1\n",
       "Koper                    1\n",
       "Audio                    1\n",
       "Videocam                 1\n",
       "Smartwatch               1\n",
       "Soundbar                 1\n",
       "Perangkat Keamanan       1\n",
       "Name: Kategori, dtype: int64"
      ]
     },
     "execution_count": 19,
     "metadata": {},
     "output_type": "execute_result"
    }
   ],
   "source": [
    "df.Kategori.value_counts()"
   ]
  },
  {
   "attachments": {},
   "cell_type": "markdown",
   "metadata": {},
   "source": [
    "In the \"category\" attribute there are several values that have similarities so that they can be combined into one value such as:\n",
    "- 'camera' , 'Kamera Aksi' rename to 'Kamera'\n",
    "- 'Tas Camping' rename to 'Tas'"
   ]
  },
  {
   "cell_type": "code",
   "execution_count": 20,
   "metadata": {},
   "outputs": [
    {
     "data": {
      "text/plain": [
       "Speaker                140\n",
       "Kamera                 124\n",
       "Proyektor              105\n",
       "Tenda                  104\n",
       "Sepatu                 104\n",
       "Matras                 103\n",
       "Tas                    103\n",
       "Playstation            101\n",
       "Dapur                   22\n",
       "Alat Musik              12\n",
       "Laptop                  12\n",
       "Perkakas                 8\n",
       "Outdoor                  7\n",
       "Smartphone               7\n",
       "Furniture                7\n",
       "Smart TV                 5\n",
       "Alat Fitness             4\n",
       "Drone                    4\n",
       "Monitor                  4\n",
       "Mesin Jahit              3\n",
       "Kulkas                   3\n",
       "Printer                  2\n",
       "Perangkat Streaming      2\n",
       "Mikrofon                 2\n",
       "Headset                  2\n",
       "Videocam                 1\n",
       "Audio                    1\n",
       "Koper                    1\n",
       "Perangkat Keamanan       1\n",
       "Soundbar                 1\n",
       "TV                       1\n",
       "Sepeda                   1\n",
       "Keyboard                 1\n",
       "Mesin Cuci               1\n",
       "Smartwatch               1\n",
       "Name: Kategori, dtype: int64"
      ]
     },
     "execution_count": 20,
     "metadata": {},
     "output_type": "execute_result"
    }
   ],
   "source": [
    "for column in df.Kategori:\n",
    "    df['Kategori'] = df['Kategori'].replace('Camera', 'Kamera')\n",
    "    df['Kategori'] = df['Kategori'].replace('Kamera Aksi', 'Kamera')\n",
    "    df['Kategori'] = df['Kategori'].replace('Tas Camping', 'Tas')\n",
    "\n",
    "df.Kategori.value_counts()"
   ]
  },
  {
   "attachments": {},
   "cell_type": "markdown",
   "metadata": {},
   "source": [
    "To handle unbalanced data on the 'Kategori' attribute, categories that have a number < 10 will be deleted."
   ]
  },
  {
   "cell_type": "code",
   "execution_count": 21,
   "metadata": {},
   "outputs": [],
   "source": [
    "# Count the number of data per category\n",
    "category_counts = df['Kategori'].value_counts()\n",
    "\n",
    "# Find categories with less than 10 data\n",
    "categories_less_than_10 = category_counts[category_counts < 10].index\n",
    "\n",
    "# Remove rows with categories that have less than 10 data\n",
    "df = df[~df['Kategori'].isin(categories_less_than_10)]\n"
   ]
  },
  {
   "attachments": {},
   "cell_type": "markdown",
   "metadata": {},
   "source": [
    "### Feature Selection"
   ]
  },
  {
   "cell_type": "code",
   "execution_count": 22,
   "metadata": {},
   "outputs": [
    {
     "name": "stdout",
     "output_type": "stream",
     "text": [
      "<class 'pandas.core.frame.DataFrame'>\n",
      "Int64Index: 930 entries, 0 to 999\n",
      "Data columns (total 6 columns):\n",
      " #   Column               Non-Null Count  Dtype \n",
      "---  ------               --------------  ----- \n",
      " 0   Deskripsi Produk     930 non-null    object\n",
      " 1   Merek                930 non-null    object\n",
      " 2   Kategori             930 non-null    object\n",
      " 3   Harga Sewa           930 non-null    int64 \n",
      " 4   Preferensi Pengguna  930 non-null    object\n",
      " 5   Jumlah Stok          930 non-null    int64 \n",
      "dtypes: int64(2), object(4)\n",
      "memory usage: 50.9+ KB\n"
     ]
    }
   ],
   "source": [
    "# Menghapus atribut \"ID\" \n",
    "df1 = df.drop(['ID'], axis=1)\n",
    "df1.info()"
   ]
  },
  {
   "attachments": {},
   "cell_type": "markdown",
   "metadata": {},
   "source": [
    "### Normalization"
   ]
  },
  {
   "cell_type": "code",
   "execution_count": 23,
   "metadata": {},
   "outputs": [
    {
     "data": {
      "text/html": [
       "<div>\n",
       "<style scoped>\n",
       "    .dataframe tbody tr th:only-of-type {\n",
       "        vertical-align: middle;\n",
       "    }\n",
       "\n",
       "    .dataframe tbody tr th {\n",
       "        vertical-align: top;\n",
       "    }\n",
       "\n",
       "    .dataframe thead th {\n",
       "        text-align: right;\n",
       "    }\n",
       "</style>\n",
       "<table border=\"1\" class=\"dataframe\">\n",
       "  <thead>\n",
       "    <tr style=\"text-align: right;\">\n",
       "      <th></th>\n",
       "      <th>Deskripsi Produk</th>\n",
       "      <th>Merek</th>\n",
       "      <th>Kategori</th>\n",
       "      <th>Harga Sewa</th>\n",
       "      <th>Preferensi Pengguna</th>\n",
       "      <th>Jumlah Stok</th>\n",
       "    </tr>\n",
       "  </thead>\n",
       "  <tbody>\n",
       "    <tr>\n",
       "      <th>0</th>\n",
       "      <td>Kamera Mirrorless</td>\n",
       "      <td>Sony</td>\n",
       "      <td>Kamera</td>\n",
       "      <td>0.008513</td>\n",
       "      <td>Fotografi, Ringan, Kinerja</td>\n",
       "      <td>5</td>\n",
       "    </tr>\n",
       "    <tr>\n",
       "      <th>1</th>\n",
       "      <td>Speaker Bluetooth</td>\n",
       "      <td>JBL</td>\n",
       "      <td>Speaker</td>\n",
       "      <td>0.003505</td>\n",
       "      <td>Bergaya, Portabel</td>\n",
       "      <td>3</td>\n",
       "    </tr>\n",
       "    <tr>\n",
       "      <th>2</th>\n",
       "      <td>Proyektor Mini</td>\n",
       "      <td>Epson</td>\n",
       "      <td>Proyektor</td>\n",
       "      <td>0.006009</td>\n",
       "      <td>Kinerja, Mudah Digunakan</td>\n",
       "      <td>2</td>\n",
       "    </tr>\n",
       "    <tr>\n",
       "      <th>3</th>\n",
       "      <td>Playstation 5</td>\n",
       "      <td>Sony</td>\n",
       "      <td>Playstation</td>\n",
       "      <td>0.011017</td>\n",
       "      <td>Mewah, Gaming</td>\n",
       "      <td>4</td>\n",
       "    </tr>\n",
       "    <tr>\n",
       "      <th>4</th>\n",
       "      <td>Tenda Camping 4 Orang</td>\n",
       "      <td>Coleman</td>\n",
       "      <td>Tenda</td>\n",
       "      <td>0.001002</td>\n",
       "      <td>Nyaman, Ringan, Tahan Lama</td>\n",
       "      <td>6</td>\n",
       "    </tr>\n",
       "  </tbody>\n",
       "</table>\n",
       "</div>"
      ],
      "text/plain": [
       "        Deskripsi Produk    Merek     Kategori  Harga Sewa  \\\n",
       "0      Kamera Mirrorless     Sony       Kamera    0.008513   \n",
       "1      Speaker Bluetooth      JBL      Speaker    0.003505   \n",
       "2         Proyektor Mini    Epson    Proyektor    0.006009   \n",
       "3          Playstation 5     Sony  Playstation    0.011017   \n",
       "4  Tenda Camping 4 Orang  Coleman        Tenda    0.001002   \n",
       "\n",
       "          Preferensi Pengguna  Jumlah Stok  \n",
       "0  Fotografi, Ringan, Kinerja            5  \n",
       "1           Bergaya, Portabel            3  \n",
       "2    Kinerja, Mudah Digunakan            2  \n",
       "3               Mewah, Gaming            4  \n",
       "4  Nyaman, Ringan, Tahan Lama            6  "
      ]
     },
     "execution_count": 23,
     "metadata": {},
     "output_type": "execute_result"
    }
   ],
   "source": [
    "# Initialize MinMaxScaler\n",
    "scaler = MinMaxScaler()\n",
    "\n",
    "# Take the \"Harga Sewa\" column and reshape it into an array\n",
    "harga_sewa = df1['Harga Sewa'].values.reshape(-1, 1)\n",
    "\n",
    "# Perform Min-Max Scaling on the \"Harga Sewa\" column\n",
    "harga_sewa_scaled = scaler.fit_transform(harga_sewa)\n",
    "\n",
    "# Replace the values in the \"Harga Sewa\" column with the scaled values\n",
    "df1['Harga Sewa'] = harga_sewa_scaled\n",
    "\n",
    "df1.head()\n"
   ]
  },
  {
   "attachments": {},
   "cell_type": "markdown",
   "metadata": {},
   "source": [
    "### Label Encoding"
   ]
  },
  {
   "cell_type": "code",
   "execution_count": 24,
   "metadata": {},
   "outputs": [],
   "source": [
    "# Initialize LabelEncoder\n",
    "label_encoder = LabelEncoder()\n",
    "\n",
    "# Encoding attribute \"Merek\"\n",
    "df1['Merek'] = label_encoder.fit_transform(df1['Merek'])\n",
    "\n"
   ]
  },
  {
   "attachments": {},
   "cell_type": "markdown",
   "metadata": {},
   "source": [
    "### One Hot encoding"
   ]
  },
  {
   "cell_type": "code",
   "execution_count": 25,
   "metadata": {},
   "outputs": [
    {
     "data": {
      "text/html": [
       "<div>\n",
       "<style scoped>\n",
       "    .dataframe tbody tr th:only-of-type {\n",
       "        vertical-align: middle;\n",
       "    }\n",
       "\n",
       "    .dataframe tbody tr th {\n",
       "        vertical-align: top;\n",
       "    }\n",
       "\n",
       "    .dataframe thead th {\n",
       "        text-align: right;\n",
       "    }\n",
       "</style>\n",
       "<table border=\"1\" class=\"dataframe\">\n",
       "  <thead>\n",
       "    <tr style=\"text-align: right;\">\n",
       "      <th></th>\n",
       "      <th>Deskripsi Produk</th>\n",
       "      <th>Merek</th>\n",
       "      <th>Harga Sewa</th>\n",
       "      <th>Preferensi Pengguna</th>\n",
       "      <th>Jumlah Stok</th>\n",
       "      <th>Alat Musik</th>\n",
       "      <th>Dapur</th>\n",
       "      <th>Kamera</th>\n",
       "      <th>Laptop</th>\n",
       "      <th>Matras</th>\n",
       "      <th>Playstation</th>\n",
       "      <th>Proyektor</th>\n",
       "      <th>Sepatu</th>\n",
       "      <th>Speaker</th>\n",
       "      <th>Tas</th>\n",
       "      <th>Tenda</th>\n",
       "    </tr>\n",
       "  </thead>\n",
       "  <tbody>\n",
       "    <tr>\n",
       "      <th>0</th>\n",
       "      <td>Kamera Mirrorless</td>\n",
       "      <td>93</td>\n",
       "      <td>0.008513</td>\n",
       "      <td>Fotografi, Ringan, Kinerja</td>\n",
       "      <td>5</td>\n",
       "      <td>0</td>\n",
       "      <td>0</td>\n",
       "      <td>1</td>\n",
       "      <td>0</td>\n",
       "      <td>0</td>\n",
       "      <td>0</td>\n",
       "      <td>0</td>\n",
       "      <td>0</td>\n",
       "      <td>0</td>\n",
       "      <td>0</td>\n",
       "      <td>0</td>\n",
       "    </tr>\n",
       "    <tr>\n",
       "      <th>1</th>\n",
       "      <td>Speaker Bluetooth</td>\n",
       "      <td>48</td>\n",
       "      <td>0.003505</td>\n",
       "      <td>Bergaya, Portabel</td>\n",
       "      <td>3</td>\n",
       "      <td>0</td>\n",
       "      <td>0</td>\n",
       "      <td>0</td>\n",
       "      <td>0</td>\n",
       "      <td>0</td>\n",
       "      <td>0</td>\n",
       "      <td>0</td>\n",
       "      <td>0</td>\n",
       "      <td>1</td>\n",
       "      <td>0</td>\n",
       "      <td>0</td>\n",
       "    </tr>\n",
       "    <tr>\n",
       "      <th>2</th>\n",
       "      <td>Proyektor Mini</td>\n",
       "      <td>30</td>\n",
       "      <td>0.006009</td>\n",
       "      <td>Kinerja, Mudah Digunakan</td>\n",
       "      <td>2</td>\n",
       "      <td>0</td>\n",
       "      <td>0</td>\n",
       "      <td>0</td>\n",
       "      <td>0</td>\n",
       "      <td>0</td>\n",
       "      <td>0</td>\n",
       "      <td>1</td>\n",
       "      <td>0</td>\n",
       "      <td>0</td>\n",
       "      <td>0</td>\n",
       "      <td>0</td>\n",
       "    </tr>\n",
       "    <tr>\n",
       "      <th>3</th>\n",
       "      <td>Playstation 5</td>\n",
       "      <td>93</td>\n",
       "      <td>0.011017</td>\n",
       "      <td>Mewah, Gaming</td>\n",
       "      <td>4</td>\n",
       "      <td>0</td>\n",
       "      <td>0</td>\n",
       "      <td>0</td>\n",
       "      <td>0</td>\n",
       "      <td>0</td>\n",
       "      <td>1</td>\n",
       "      <td>0</td>\n",
       "      <td>0</td>\n",
       "      <td>0</td>\n",
       "      <td>0</td>\n",
       "      <td>0</td>\n",
       "    </tr>\n",
       "    <tr>\n",
       "      <th>4</th>\n",
       "      <td>Tenda Camping 4 Orang</td>\n",
       "      <td>22</td>\n",
       "      <td>0.001002</td>\n",
       "      <td>Nyaman, Ringan, Tahan Lama</td>\n",
       "      <td>6</td>\n",
       "      <td>0</td>\n",
       "      <td>0</td>\n",
       "      <td>0</td>\n",
       "      <td>0</td>\n",
       "      <td>0</td>\n",
       "      <td>0</td>\n",
       "      <td>0</td>\n",
       "      <td>0</td>\n",
       "      <td>0</td>\n",
       "      <td>0</td>\n",
       "      <td>1</td>\n",
       "    </tr>\n",
       "    <tr>\n",
       "      <th>5</th>\n",
       "      <td>Sepatu Olahraga</td>\n",
       "      <td>68</td>\n",
       "      <td>0.002504</td>\n",
       "      <td>Bergaya, Nyaman</td>\n",
       "      <td>10</td>\n",
       "      <td>0</td>\n",
       "      <td>0</td>\n",
       "      <td>0</td>\n",
       "      <td>0</td>\n",
       "      <td>0</td>\n",
       "      <td>0</td>\n",
       "      <td>0</td>\n",
       "      <td>1</td>\n",
       "      <td>0</td>\n",
       "      <td>0</td>\n",
       "      <td>0</td>\n",
       "    </tr>\n",
       "    <tr>\n",
       "      <th>6</th>\n",
       "      <td>Matras Angin Tidur</td>\n",
       "      <td>47</td>\n",
       "      <td>0.000000</td>\n",
       "      <td>Nyaman, Praktis</td>\n",
       "      <td>8</td>\n",
       "      <td>0</td>\n",
       "      <td>0</td>\n",
       "      <td>0</td>\n",
       "      <td>0</td>\n",
       "      <td>1</td>\n",
       "      <td>0</td>\n",
       "      <td>0</td>\n",
       "      <td>0</td>\n",
       "      <td>0</td>\n",
       "      <td>0</td>\n",
       "      <td>0</td>\n",
       "    </tr>\n",
       "    <tr>\n",
       "      <th>7</th>\n",
       "      <td>Tas Punggung Anti Air</td>\n",
       "      <td>97</td>\n",
       "      <td>0.004507</td>\n",
       "      <td>Bergaya, Tahan Air</td>\n",
       "      <td>3</td>\n",
       "      <td>0</td>\n",
       "      <td>0</td>\n",
       "      <td>0</td>\n",
       "      <td>0</td>\n",
       "      <td>0</td>\n",
       "      <td>0</td>\n",
       "      <td>0</td>\n",
       "      <td>0</td>\n",
       "      <td>0</td>\n",
       "      <td>1</td>\n",
       "      <td>0</td>\n",
       "    </tr>\n",
       "    <tr>\n",
       "      <th>8</th>\n",
       "      <td>Kamera DSLR</td>\n",
       "      <td>17</td>\n",
       "      <td>0.007511</td>\n",
       "      <td>Fotografi, Kualitas Gambar</td>\n",
       "      <td>7</td>\n",
       "      <td>0</td>\n",
       "      <td>0</td>\n",
       "      <td>1</td>\n",
       "      <td>0</td>\n",
       "      <td>0</td>\n",
       "      <td>0</td>\n",
       "      <td>0</td>\n",
       "      <td>0</td>\n",
       "      <td>0</td>\n",
       "      <td>0</td>\n",
       "      <td>0</td>\n",
       "    </tr>\n",
       "    <tr>\n",
       "      <th>9</th>\n",
       "      <td>Speaker Portable</td>\n",
       "      <td>13</td>\n",
       "      <td>0.006009</td>\n",
       "      <td>Kinerja, Suara Berkualitas</td>\n",
       "      <td>5</td>\n",
       "      <td>0</td>\n",
       "      <td>0</td>\n",
       "      <td>0</td>\n",
       "      <td>0</td>\n",
       "      <td>0</td>\n",
       "      <td>0</td>\n",
       "      <td>0</td>\n",
       "      <td>0</td>\n",
       "      <td>1</td>\n",
       "      <td>0</td>\n",
       "      <td>0</td>\n",
       "    </tr>\n",
       "  </tbody>\n",
       "</table>\n",
       "</div>"
      ],
      "text/plain": [
       "        Deskripsi Produk  Merek  Harga Sewa         Preferensi Pengguna  \\\n",
       "0      Kamera Mirrorless     93    0.008513  Fotografi, Ringan, Kinerja   \n",
       "1      Speaker Bluetooth     48    0.003505           Bergaya, Portabel   \n",
       "2         Proyektor Mini     30    0.006009    Kinerja, Mudah Digunakan   \n",
       "3          Playstation 5     93    0.011017               Mewah, Gaming   \n",
       "4  Tenda Camping 4 Orang     22    0.001002  Nyaman, Ringan, Tahan Lama   \n",
       "5        Sepatu Olahraga     68    0.002504             Bergaya, Nyaman   \n",
       "6     Matras Angin Tidur     47    0.000000             Nyaman, Praktis   \n",
       "7  Tas Punggung Anti Air     97    0.004507          Bergaya, Tahan Air   \n",
       "8            Kamera DSLR     17    0.007511  Fotografi, Kualitas Gambar   \n",
       "9       Speaker Portable     13    0.006009  Kinerja, Suara Berkualitas   \n",
       "\n",
       "   Jumlah Stok  Alat Musik  Dapur  Kamera  Laptop  Matras  Playstation  \\\n",
       "0            5           0      0       1       0       0            0   \n",
       "1            3           0      0       0       0       0            0   \n",
       "2            2           0      0       0       0       0            0   \n",
       "3            4           0      0       0       0       0            1   \n",
       "4            6           0      0       0       0       0            0   \n",
       "5           10           0      0       0       0       0            0   \n",
       "6            8           0      0       0       0       1            0   \n",
       "7            3           0      0       0       0       0            0   \n",
       "8            7           0      0       1       0       0            0   \n",
       "9            5           0      0       0       0       0            0   \n",
       "\n",
       "   Proyektor  Sepatu  Speaker  Tas  Tenda  \n",
       "0          0       0        0    0      0  \n",
       "1          0       0        1    0      0  \n",
       "2          1       0        0    0      0  \n",
       "3          0       0        0    0      0  \n",
       "4          0       0        0    0      1  \n",
       "5          0       1        0    0      0  \n",
       "6          0       0        0    0      0  \n",
       "7          0       0        0    1      0  \n",
       "8          0       0        0    0      0  \n",
       "9          0       0        1    0      0  "
      ]
     },
     "execution_count": 25,
     "metadata": {},
     "output_type": "execute_result"
    }
   ],
   "source": [
    "# Perform one-hot encoding on the 'Kategori' attribute\n",
    "one_hot_encoded = pd.get_dummies(df1['Kategori'])\n",
    "\n",
    "# Concatenate the one-hot encoded dataframe with the original dataframe\n",
    "df1 = pd.concat([df1, one_hot_encoded], axis=1)\n",
    "\n",
    "# Remove the 'Kategori' column that is no longer needed after one-hot encoding\n",
    "df1 = df1.drop('Kategori', axis=1)\n",
    "\n",
    "df1.head(10)"
   ]
  },
  {
   "attachments": {},
   "cell_type": "markdown",
   "metadata": {},
   "source": [
    "### Text Standardization"
   ]
  },
  {
   "cell_type": "code",
   "execution_count": 26,
   "metadata": {},
   "outputs": [
    {
     "name": "stderr",
     "output_type": "stream",
     "text": [
      "[nltk_data] Downloading package punkt to\n",
      "[nltk_data]     C:\\Users\\HP\\AppData\\Roaming\\nltk_data...\n",
      "[nltk_data]   Package punkt is already up-to-date!\n",
      "[nltk_data] Downloading package stopwords to\n",
      "[nltk_data]     C:\\Users\\HP\\AppData\\Roaming\\nltk_data...\n",
      "[nltk_data]   Package stopwords is already up-to-date!\n",
      "[nltk_data] Downloading package wordnet to\n",
      "[nltk_data]     C:\\Users\\HP\\AppData\\Roaming\\nltk_data...\n",
      "[nltk_data]   Package wordnet is already up-to-date!\n"
     ]
    },
    {
     "data": {
      "text/plain": [
       "True"
      ]
     },
     "execution_count": 26,
     "metadata": {},
     "output_type": "execute_result"
    }
   ],
   "source": [
    "nltk.download('punkt')\n",
    "nltk.download('stopwords')\n",
    "nltk.download('wordnet')\n",
    "\n"
   ]
  },
  {
   "cell_type": "code",
   "execution_count": 27,
   "metadata": {},
   "outputs": [],
   "source": [
    "# Initialize WordNetLemmatizers\n",
    "lemmatizer = WordNetLemmatizer()\n",
    "\n",
    "# Function to preprocess text\n",
    "def preprocess_text(text):\n",
    "    # Convert text to lowercase\n",
    "    text = text.lower()\n",
    "    # Remove punctuation\n",
    "    text = text.translate(str.maketrans('', '', string.punctuation))\n",
    "    # Tokenize the text into words\n",
    "    tokens = nltk.word_tokenize(text)\n",
    "    # Lemmatize words\n",
    "    lemmatized_tokens = [lemmatizer.lemmatize(token) for token in tokens]\n",
    "    # Join the tokens back into a single string\n",
    "    processed_text = ' '.join(lemmatized_tokens)\n",
    "    return processed_text\n",
    "\n",
    "# Standardize text in \"Deskripsi Produk\" attribute\n",
    "df1['Deskripsi Produk'] = df1['Deskripsi Produk'].apply(preprocess_text)\n",
    "\n",
    "# Standardize text in \"Preferensi Pengguna\" attribute\n",
    "df1['Preferensi Pengguna'] = df1['Preferensi Pengguna'].apply(preprocess_text)\n"
   ]
  },
  {
   "attachments": {},
   "cell_type": "markdown",
   "metadata": {},
   "source": [
    "# Feature Representation"
   ]
  },
  {
   "cell_type": "code",
   "execution_count": 28,
   "metadata": {},
   "outputs": [],
   "source": [
    "# Initialize TfidfVectorizer\n",
    "tfidf_vectorizer = TfidfVectorizer()\n",
    "\n",
    "# TF-IDF representation for \"Deskripsi Produk\" feature\n",
    "deskripsi_produk_tfidf = tfidf_vectorizer.fit_transform(df1['Deskripsi Produk'])\n",
    "\n",
    "# TF-IDF representation for \"Preferensi Pengguna\" feature\n",
    "preferensi_pengguna_tfidf = tfidf_vectorizer.fit_transform(df1['Preferensi Pengguna'])\n",
    "\n",
    "# Combine the two representation matrices into one matrix\n",
    "feature_matrix = sp.hstack((deskripsi_produk_tfidf, preferensi_pengguna_tfidf))"
   ]
  },
  {
   "attachments": {},
   "cell_type": "markdown",
   "metadata": {},
   "source": [
    "# Split data"
   ]
  },
  {
   "cell_type": "code",
   "execution_count": 31,
   "metadata": {},
   "outputs": [],
   "source": [
    "target_data = df1.drop(['Deskripsi Produk', 'Merek', 'Harga Sewa', 'Preferensi Pengguna', 'Jumlah Stok'], axis=1)\n",
    "\n",
    "# Split data into training and test data\n",
    "X_train, X_test, y_train, y_test = train_test_split(feature_matrix.toarray(), target_data.to_numpy(), test_size=0.2, random_state=42)\n"
   ]
  },
  {
   "cell_type": "code",
   "execution_count": 40,
   "metadata": {},
   "outputs": [
    {
     "data": {
      "text/plain": [
       "(930, 481)"
      ]
     },
     "execution_count": 40,
     "metadata": {},
     "output_type": "execute_result"
    }
   ],
   "source": [
    "feature_matrix.shape"
   ]
  },
  {
   "cell_type": "code",
   "execution_count": 34,
   "metadata": {},
   "outputs": [
    {
     "data": {
      "text/plain": [
       "array([[0, 0, 1, ..., 0, 0, 0],\n",
       "       [0, 0, 0, ..., 1, 0, 0],\n",
       "       [0, 0, 0, ..., 0, 0, 0],\n",
       "       ...,\n",
       "       [0, 0, 0, ..., 1, 0, 0],\n",
       "       [0, 0, 0, ..., 0, 0, 0],\n",
       "       [0, 0, 0, ..., 0, 0, 0]], dtype=uint8)"
      ]
     },
     "execution_count": 34,
     "metadata": {},
     "output_type": "execute_result"
    }
   ],
   "source": [
    "target_data.to_numpy()"
   ]
  },
  {
   "cell_type": "code",
   "execution_count": 53,
   "metadata": {},
   "outputs": [
    {
     "name": "stdout",
     "output_type": "stream",
     "text": [
      "Epoch 1/10\n",
      "12/12 [==============================] - 1s 20ms/step - loss: 2.3275 - accuracy: 0.2258 - val_loss: 2.2406 - val_accuracy: 0.3011\n",
      "Epoch 2/10\n",
      "12/12 [==============================] - 0s 9ms/step - loss: 2.1262 - accuracy: 0.3777 - val_loss: 1.9805 - val_accuracy: 0.4301\n",
      "Epoch 3/10\n",
      "12/12 [==============================] - 0s 9ms/step - loss: 1.7916 - accuracy: 0.4704 - val_loss: 1.5677 - val_accuracy: 0.6183\n",
      "Epoch 4/10\n",
      "12/12 [==============================] - 0s 7ms/step - loss: 1.3598 - accuracy: 0.6196 - val_loss: 1.0990 - val_accuracy: 0.7151\n",
      "Epoch 5/10\n",
      "12/12 [==============================] - 0s 6ms/step - loss: 0.9090 - accuracy: 0.8199 - val_loss: 0.6763 - val_accuracy: 0.8925\n",
      "Epoch 6/10\n",
      "12/12 [==============================] - 0s 6ms/step - loss: 0.5505 - accuracy: 0.9086 - val_loss: 0.4006 - val_accuracy: 0.9355\n",
      "Epoch 7/10\n",
      "12/12 [==============================] - 0s 6ms/step - loss: 0.3552 - accuracy: 0.9355 - val_loss: 0.2618 - val_accuracy: 0.9409\n",
      "Epoch 8/10\n",
      "12/12 [==============================] - 0s 7ms/step - loss: 0.2407 - accuracy: 0.9435 - val_loss: 0.1950 - val_accuracy: 0.9409\n",
      "Epoch 9/10\n",
      "12/12 [==============================] - 0s 7ms/step - loss: 0.1878 - accuracy: 0.9637 - val_loss: 0.1487 - val_accuracy: 0.9624\n",
      "Epoch 10/10\n",
      "12/12 [==============================] - 0s 6ms/step - loss: 0.1378 - accuracy: 0.9758 - val_loss: 0.1237 - val_accuracy: 0.9677\n"
     ]
    }
   ],
   "source": [
    "# Define the number of input features\n",
    "input_dim = X_train.shape[1]\n",
    "\n",
    "# Initialize the model\n",
    "model = Sequential()\n",
    "\n",
    "# Add the output layer with the appropriate number of classes\n",
    "num_classes = y_train.shape[1]\n",
    "\n",
    "# Add the input layer and hidden layer\n",
    "model.add(Dense(128, input_dim=input_dim, activation='relu'))\n",
    "model.add(Dense(64, activation='relu'))\n",
    "model.add(Dense(32, activation='relu'))\n",
    "model.add(Dropout(0.3))\n",
    "model.add(Dense(num_classes, activation='softmax'))\n",
    "\n",
    "# Compile the model\n",
    "model.compile(loss='categorical_crossentropy', optimizer='adam', metrics=['accuracy'])\n",
    "\n",
    "# Train the model with the training data\n",
    "hist = model.fit(X_train, y_train, epochs=10, batch_size=64, validation_data=(X_test, y_test))\n",
    "\n"
   ]
  },
  {
   "cell_type": "code",
   "execution_count": 55,
   "metadata": {},
   "outputs": [
    {
     "name": "stdout",
     "output_type": "stream",
     "text": [
      "24/24 [==============================] - 0s 2ms/step\n",
      "6/6 [==============================] - 0s 2ms/step\n",
      "MSE pada data latih:  0.002200366\n",
      "MSE pada data uji:  0.0044997\n",
      "MAE pada data latih:  0.0077624465\n",
      "MAE pada data uji:  0.012032791\n"
     ]
    }
   ],
   "source": [
    "# Prediksi nilai menggunakan model\n",
    "train_pred = model.predict(X_train)\n",
    "test_pred = model.predict(X_test)\n",
    "\n",
    "# Menghitung MSE dan MAE\n",
    "train_mse = mean_squared_error(y_train, train_pred)\n",
    "test_mse = mean_squared_error(y_test, test_pred)\n",
    "\n",
    "train_mae = mean_absolute_error(y_train, train_pred)\n",
    "test_mae = mean_absolute_error(y_test, test_pred)\n",
    "\n",
    "print(\"MSE pada data latih: \", train_mse)\n",
    "print(\"MSE pada data uji: \", test_mse)\n",
    "\n",
    "print(\"MAE pada data latih: \", train_mae)\n",
    "print(\"MAE pada data uji: \", test_mae)\n"
   ]
  },
  {
   "attachments": {},
   "cell_type": "markdown",
   "metadata": {},
   "source": [
    "***Display the training accuracy plot***"
   ]
  },
  {
   "cell_type": "code",
   "execution_count": 57,
   "metadata": {},
   "outputs": [
    {
     "data": {
      "image/png": "[encoded data removed]",
      "text/plain": [
       "<Figure size 640x480 with 1 Axes>"
      ]
     },
     "metadata": {},
     "output_type": "display_data"
    }
   ],
   "source": [
    "# Menampilkan plot akurasi pelatihan\n",
    "plt.plot(hist.history['accuracy'])\n",
    "plt.plot(hist.history['val_accuracy'])\n",
    "plt.title('Model Accuracy')\n",
    "plt.ylabel('Accuracy')\n",
    "plt.xlabel('Epoch')\n",
    "plt.legend(['Train', 'Validation'], loc='upper left')\n",
    "plt.show()"
   ]
  },
  {
   "attachments": {},
   "cell_type": "markdown",
   "metadata": {},
   "source": [
    "***Display the training loss plot***"
   ]
  },
  {
   "cell_type": "code",
   "execution_count": 58,
   "metadata": {},
   "outputs": [
    {
     "data": {
      "image/png": "[encoded data removed]",
      "text/plain": [
       "<Figure size 640x480 with 1 Axes>"
      ]
     },
     "metadata": {},
     "output_type": "display_data"
    }
   ],
   "source": [
    "plt.plot(hist.history['loss'])\n",
    "plt.plot(hist.history['val_loss'])\n",
    "plt.title('Model Loss')\n",
    "plt.ylabel('Loss')\n",
    "plt.xlabel('Epoch')\n",
    "plt.legend(['Train', 'Validation'], loc='upper right')\n",
    "plt.show()"
   ]
  }
 ],
 "metadata": {
  "kernelspec": {
   "display_name": "Python 3",
   "language": "python",
   "name": "python3"
  },
  "language_info": {
   "codemirror_mode": {
    "name": "ipython",
    "version": 3
   },
   "file_extension": ".py",
   "mimetype": "text/x-python",
   "name": "python",
   "nbconvert_exporter": "python",
   "pygments_lexer": "ipython3",
   "version": "3.9.6"
  },
  "orig_nbformat": 4
 },
 "nbformat": 4,
 "nbformat_minor": 2
}
